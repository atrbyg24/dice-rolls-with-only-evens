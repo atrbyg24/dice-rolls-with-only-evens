{
 "cells": [
  {
   "cell_type": "code",
   "execution_count": 6,
   "id": "891d76d7",
   "metadata": {},
   "outputs": [
    {
     "name": "stdout",
     "output_type": "stream",
     "text": [
      "1\n",
      "1.479\n",
      "1.429\n",
      "2\n",
      "2.705\n",
      "2.952\n",
      "3\n",
      "3.771\n",
      "4.534\n",
      "4\n",
      "4.826\n",
      "6.061\n",
      "5\n",
      "5.856\n",
      "7.479\n",
      "6\n",
      "6.721\n",
      "8.917\n",
      "7\n",
      "7.889\n",
      "10.529\n",
      "8\n"
     ]
    },
    {
     "ename": "KeyboardInterrupt",
     "evalue": "",
     "output_type": "error",
     "traceback": [
      "\u001b[0;31m---------------------------------------------------------------------------\u001b[0m",
      "\u001b[0;31mKeyboardInterrupt\u001b[0m                         Traceback (most recent call last)",
      "Input \u001b[0;32mIn [6]\u001b[0m, in \u001b[0;36m<module>\u001b[0;34m\u001b[0m\n\u001b[1;32m     50\u001b[0m \u001b[38;5;28;01mfor\u001b[39;00m i \u001b[38;5;129;01min\u001b[39;00m \u001b[38;5;28mrange\u001b[39m(\u001b[38;5;241m1\u001b[39m,\u001b[38;5;241m11\u001b[39m):\n\u001b[1;32m     51\u001b[0m     \u001b[38;5;28mprint\u001b[39m(i)\n\u001b[0;32m---> 52\u001b[0m     \u001b[38;5;28mprint\u001b[39m(\u001b[43mconsec_average\u001b[49m\u001b[43m(\u001b[49m\u001b[43mi\u001b[49m\u001b[43m,\u001b[49m\u001b[38;5;241;43m1000\u001b[39;49m\u001b[43m)\u001b[49m)\n\u001b[1;32m     53\u001b[0m     \u001b[38;5;28mprint\u001b[39m(non_consec_average(i,\u001b[38;5;241m1000\u001b[39m))\n",
      "Input \u001b[0;32mIn [6]\u001b[0m, in \u001b[0;36mconsec_average\u001b[0;34m(n, k)\u001b[0m\n\u001b[1;32m     45\u001b[0m avg\u001b[38;5;241m=\u001b[39m\u001b[38;5;241m0\u001b[39m\n\u001b[1;32m     46\u001b[0m \u001b[38;5;28;01mfor\u001b[39;00m i \u001b[38;5;129;01min\u001b[39;00m \u001b[38;5;28mrange\u001b[39m(k):\n\u001b[0;32m---> 47\u001b[0m \tx\u001b[38;5;241m=\u001b[39m\u001b[43mconsec\u001b[49m\u001b[43m(\u001b[49m\u001b[43mn\u001b[49m\u001b[43m)\u001b[49m\n\u001b[1;32m     48\u001b[0m \tavg\u001b[38;5;241m+\u001b[39m\u001b[38;5;241m=\u001b[39mx\n\u001b[1;32m     49\u001b[0m \u001b[38;5;28;01mreturn\u001b[39;00m avg\u001b[38;5;241m/\u001b[39mk\n",
      "Input \u001b[0;32mIn [6]\u001b[0m, in \u001b[0;36mconsec\u001b[0;34m(n)\u001b[0m\n\u001b[1;32m     23\u001b[0m num_6\u001b[38;5;241m=\u001b[39m\u001b[38;5;241m0\u001b[39m\n\u001b[1;32m     24\u001b[0m \u001b[38;5;28;01mwhile\u001b[39;00m num_6\u001b[38;5;241m<\u001b[39mn:\n\u001b[0;32m---> 25\u001b[0m \tx\u001b[38;5;241m=\u001b[39m\u001b[43mrandom\u001b[49m\u001b[38;5;241;43m.\u001b[39;49m\u001b[43mrandint\u001b[49m\u001b[43m(\u001b[49m\u001b[38;5;241;43m1\u001b[39;49m\u001b[43m,\u001b[49m\u001b[38;5;241;43m6\u001b[39;49m\u001b[43m)\u001b[49m\n\u001b[1;32m     26\u001b[0m \t\u001b[38;5;28;01mif\u001b[39;00m x\u001b[38;5;241m%\u001b[39m\u001b[38;5;241m2\u001b[39m\u001b[38;5;241m==\u001b[39m\u001b[38;5;241m1\u001b[39m:\n\u001b[1;32m     27\u001b[0m \t\tcounter\u001b[38;5;241m=\u001b[39m\u001b[38;5;241m0\u001b[39m\n",
      "File \u001b[0;32m/Library/Frameworks/Python.framework/Versions/3.10/lib/python3.10/random.py:370\u001b[0m, in \u001b[0;36mRandom.randint\u001b[0;34m(self, a, b)\u001b[0m\n\u001b[1;32m    366\u001b[0m \u001b[38;5;28;01mdef\u001b[39;00m \u001b[38;5;21mrandint\u001b[39m(\u001b[38;5;28mself\u001b[39m, a, b):\n\u001b[1;32m    367\u001b[0m     \u001b[38;5;124;03m\"\"\"Return random integer in range [a, b], including both end points.\u001b[39;00m\n\u001b[1;32m    368\u001b[0m \u001b[38;5;124;03m    \"\"\"\u001b[39;00m\n\u001b[0;32m--> 370\u001b[0m     \u001b[38;5;28;01mreturn\u001b[39;00m \u001b[38;5;28;43mself\u001b[39;49m\u001b[38;5;241;43m.\u001b[39;49m\u001b[43mrandrange\u001b[49m\u001b[43m(\u001b[49m\u001b[43ma\u001b[49m\u001b[43m,\u001b[49m\u001b[43m \u001b[49m\u001b[43mb\u001b[49m\u001b[38;5;241;43m+\u001b[39;49m\u001b[38;5;241;43m1\u001b[39;49m\u001b[43m)\u001b[49m\n",
      "File \u001b[0;32m/Library/Frameworks/Python.framework/Versions/3.10/lib/python3.10/random.py:352\u001b[0m, in \u001b[0;36mRandom.randrange\u001b[0;34m(self, start, stop, step)\u001b[0m\n\u001b[1;32m    350\u001b[0m \u001b[38;5;28;01mif\u001b[39;00m istep \u001b[38;5;241m==\u001b[39m \u001b[38;5;241m1\u001b[39m:\n\u001b[1;32m    351\u001b[0m     \u001b[38;5;28;01mif\u001b[39;00m width \u001b[38;5;241m>\u001b[39m \u001b[38;5;241m0\u001b[39m:\n\u001b[0;32m--> 352\u001b[0m         \u001b[38;5;28;01mreturn\u001b[39;00m istart \u001b[38;5;241m+\u001b[39m \u001b[38;5;28;43mself\u001b[39;49m\u001b[38;5;241;43m.\u001b[39;49m\u001b[43m_randbelow\u001b[49m\u001b[43m(\u001b[49m\u001b[43mwidth\u001b[49m\u001b[43m)\u001b[49m\n\u001b[1;32m    353\u001b[0m     \u001b[38;5;28;01mraise\u001b[39;00m \u001b[38;5;167;01mValueError\u001b[39;00m(\u001b[38;5;124m\"\u001b[39m\u001b[38;5;124mempty range for randrange() (\u001b[39m\u001b[38;5;132;01m%d\u001b[39;00m\u001b[38;5;124m, \u001b[39m\u001b[38;5;132;01m%d\u001b[39;00m\u001b[38;5;124m, \u001b[39m\u001b[38;5;132;01m%d\u001b[39;00m\u001b[38;5;124m)\u001b[39m\u001b[38;5;124m\"\u001b[39m \u001b[38;5;241m%\u001b[39m (istart, istop, width))\n\u001b[1;32m    355\u001b[0m \u001b[38;5;66;03m# Non-unit step argument supplied.\u001b[39;00m\n",
      "File \u001b[0;32m/Library/Frameworks/Python.framework/Versions/3.10/lib/python3.10/random.py:239\u001b[0m, in \u001b[0;36mRandom._randbelow_with_getrandbits\u001b[0;34m(self, n)\u001b[0m\n\u001b[1;32m    236\u001b[0m             \u001b[38;5;28mcls\u001b[39m\u001b[38;5;241m.\u001b[39m_randbelow \u001b[38;5;241m=\u001b[39m \u001b[38;5;28mcls\u001b[39m\u001b[38;5;241m.\u001b[39m_randbelow_without_getrandbits\n\u001b[1;32m    237\u001b[0m             \u001b[38;5;28;01mbreak\u001b[39;00m\n\u001b[0;32m--> 239\u001b[0m \u001b[38;5;28;01mdef\u001b[39;00m \u001b[38;5;21m_randbelow_with_getrandbits\u001b[39m(\u001b[38;5;28mself\u001b[39m, n):\n\u001b[1;32m    240\u001b[0m     \u001b[38;5;124m\"\u001b[39m\u001b[38;5;124mReturn a random int in the range [0,n).  Returns 0 if n==0.\u001b[39m\u001b[38;5;124m\"\u001b[39m\n\u001b[1;32m    242\u001b[0m     \u001b[38;5;28;01mif\u001b[39;00m \u001b[38;5;129;01mnot\u001b[39;00m n:\n",
      "\u001b[0;31mKeyboardInterrupt\u001b[0m: "
     ]
    }
   ],
   "source": [
    "# roll a die until you get \n",
    "import random\n",
    "\n",
    "def nonconsec(n):\n",
    "\t#roll a die until you get a n 6s before an odd, then return the number of rolls\n",
    "\tcounter = 0\n",
    "\tnum_6=0\n",
    "\twhile num_6<n:\n",
    "\t\tx=random.randint(1,6)\n",
    "\t\tif x%2==1:\n",
    "\t\t\tcounter=0\n",
    "\t\t\tnum_6=0\n",
    "\t\t\tcontinue\n",
    "\t\tif x==6:\n",
    "\t\t\tnum_6+=1\n",
    "\t\tcounter+=1\n",
    "\treturn counter\n",
    "\n",
    "\n",
    "def consec(n):\n",
    "\t#roll a die until you get a n 6s in a row before an odd, then return the number of rolls\n",
    "\tcounter = 0\n",
    "\tnum_6=0\n",
    "\twhile num_6<n:\n",
    "\t\tx=random.randint(1,6)\n",
    "\t\tif x%2==1:\n",
    "\t\t\tcounter=0\n",
    "\t\t\tnum_6=0\n",
    "\t\t\tcontinue\n",
    "\t\tif x==6:\n",
    "\t\t\tnum_6+=1\n",
    "\t\telse:\n",
    "\t\t\tnum_6=0\n",
    "\t\tcounter+=1\n",
    "\treturn counter\n",
    "\n",
    "def non_consec_average(n,k):\n",
    "\tavg=0\n",
    "\tfor i in range(k):\n",
    "\t\tx=nonconsec(n)\n",
    "\t\tavg+=x\n",
    "\treturn avg/k\n",
    "\n",
    "def consec_average(n,k):\n",
    "\tavg=0\n",
    "\tfor i in range(k):\n",
    "\t\tx=consec(n)\n",
    "\t\tavg+=x\n",
    "\treturn avg/k\n",
    "for i in range(1,11):\n",
    "    print(i)\n",
    "    print(consec_average(i,1000))\n",
    "    print(non_consec_average(i,1000))"
   ]
  },
  {
   "cell_type": "code",
   "execution_count": null,
   "id": "6b97cd19",
   "metadata": {},
   "outputs": [],
   "source": []
  }
 ],
 "metadata": {
  "kernelspec": {
   "display_name": "Python 3 (ipykernel)",
   "language": "python",
   "name": "python3"
  },
  "language_info": {
   "codemirror_mode": {
    "name": "ipython",
    "version": 3
   },
   "file_extension": ".py",
   "mimetype": "text/x-python",
   "name": "python",
   "nbconvert_exporter": "python",
   "pygments_lexer": "ipython3",
   "version": "3.10.2"
  }
 },
 "nbformat": 4,
 "nbformat_minor": 5
}
