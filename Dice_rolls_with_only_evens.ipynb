{
 "cells": [
  {
   "cell_type": "code",
   "execution_count": 2,
   "id": "891d76d7",
   "metadata": {},
   "outputs": [
    {
     "name": "stdout",
     "output_type": "stream",
     "text": [
      "1\n",
      "1.466\n",
      "1.524\n",
      "2\n",
      "2.744\n",
      "2.974\n",
      "3\n",
      "3.791\n",
      "4.468\n",
      "4\n",
      "4.73\n",
      "5.878\n"
     ]
    }
   ],
   "source": [
    "# roll a die until you get a 6 assuming all dice rolls are even numbers\n",
    "import random\n",
    "\n",
    "def nonconsec(n):\n",
    "\t#roll a die until you get a n 6s before an odd, then return the number of rolls\n",
    "\tcounter = 0\n",
    "\tnum_6=0\n",
    "\twhile num_6<n:\n",
    "\t\tx=random.randint(1,6)\n",
    "\t\tif x%2==1:\n",
    "\t\t\tcounter=0\n",
    "\t\t\tnum_6=0\n",
    "\t\t\tcontinue\n",
    "\t\tif x==6:\n",
    "\t\t\tnum_6+=1\n",
    "\t\tcounter+=1\n",
    "\treturn counter\n",
    "\n",
    "\n",
    "def consec(n):\n",
    "\t#roll a die until you get a n 6s in a row before an odd, then return the number of rolls\n",
    "\tcounter = 0\n",
    "\tnum_6=0\n",
    "\twhile num_6<n:\n",
    "\t\tx=random.randint(1,6)\n",
    "\t\tif x%2==1:\n",
    "\t\t\tcounter=0\n",
    "\t\t\tnum_6=0\n",
    "\t\t\tcontinue\n",
    "\t\tif x==6:\n",
    "\t\t\tnum_6+=1\n",
    "\t\telse:\n",
    "\t\t\tnum_6=0\n",
    "\t\tcounter+=1\n",
    "\treturn counter\n",
    "\n",
    "def non_consec_average(n,k):\n",
    "\tavg=0\n",
    "\tfor i in range(k):\n",
    "\t\tx=nonconsec(n)\n",
    "\t\tavg+=x\n",
    "\treturn avg/k\n",
    "\n",
    "def consec_average(n,k):\n",
    "\tavg=0\n",
    "\tfor i in range(k):\n",
    "\t\tx=consec(n)\n",
    "\t\tavg+=x\n",
    "\treturn avg/k\n",
    "for i in range(1,5):\n",
    "    print(i)\n",
    "    print(consec_average(i,1000))\n",
    "    print(non_consec_average(i,1000))"
   ]
  },
  {
   "cell_type": "code",
   "execution_count": null,
   "id": "6b97cd19",
   "metadata": {},
   "outputs": [],
   "source": []
  }
 ],
 "metadata": {
  "kernelspec": {
   "display_name": "Python 3 (ipykernel)",
   "language": "python",
   "name": "python3"
  },
  "language_info": {
   "codemirror_mode": {
    "name": "ipython",
    "version": 3
   },
   "file_extension": ".py",
   "mimetype": "text/x-python",
   "name": "python",
   "nbconvert_exporter": "python",
   "pygments_lexer": "ipython3",
   "version": "3.10.2"
  }
 },
 "nbformat": 4,
 "nbformat_minor": 5
}
